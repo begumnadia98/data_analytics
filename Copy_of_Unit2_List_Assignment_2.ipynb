{
  "nbformat": 4,
  "nbformat_minor": 0,
  "metadata": {
    "colab": {
      "name": "Copy of Unit2_List_Assignment_2.ipynb",
      "provenance": [],
      "collapsed_sections": [],
      "toc_visible": true,
      "include_colab_link": true
    },
    "kernelspec": {
      "name": "python3",
      "display_name": "Python 3"
    }
  },
  "cells": [
    {
      "cell_type": "markdown",
      "metadata": {
        "id": "view-in-github",
        "colab_type": "text"
      },
      "source": [
        "<a href=\"https://colab.research.google.com/github/begumnadia98/data_analytics/blob/main/Copy_of_Unit2_List_Assignment_2.ipynb\" target=\"_parent\"><img src=\"https://colab.research.google.com/assets/colab-badge.svg\" alt=\"Open In Colab\"/></a>"
      ]
    },
    {
      "cell_type": "markdown",
      "metadata": {
        "id": "Vgs8Kp4TidFQ"
      },
      "source": [
        "# Intrdouction to Python - List - Assingment #2  "
      ]
    },
    {
      "cell_type": "markdown",
      "metadata": {
        "id": "_Hq7Ny79iwgD"
      },
      "source": [
        "## 1.Create a list of 5 of your favorite tv shows.  ?"
      ]
    },
    {
      "cell_type": "code",
      "metadata": {
        "id": "lotvpVpvlKsR"
      },
      "source": [
        "tv= [\"Supernatural\",\"Grey's Anatomy\",\" Avatar:The Last Airbender\", \"One Tree Hill\", \"Outerbanks\"]"
      ],
      "execution_count": null,
      "outputs": []
    },
    {
      "cell_type": "code",
      "metadata": {
        "id": "oNXY-CfrlLbE",
        "colab": {
          "base_uri": "https://localhost:8080/"
        },
        "outputId": "c1024a62-2457-4875-e2fc-ab78a5368986"
      },
      "source": [
        "print(tv)\r\n",
        "len(tv) \r\n"
      ],
      "execution_count": null,
      "outputs": [
        {
          "output_type": "stream",
          "text": [
            "['Supernatural', \"Grey's Anatomy\", 'Avatar:The Last Airbender', 'One Tree Hill', 'Outerbanks']\n"
          ],
          "name": "stdout"
        },
        {
          "output_type": "execute_result",
          "data": {
            "text/plain": [
              "5"
            ]
          },
          "metadata": {
            "tags": []
          },
          "execution_count": 15
        }
      ]
    },
    {
      "cell_type": "markdown",
      "metadata": {
        "id": "io_27RSlizno"
      },
      "source": [
        "## 2.\tPrint the list in its original order"
      ]
    },
    {
      "cell_type": "code",
      "metadata": {
        "id": "Dh1o5cAylSHB",
        "colab": {
          "base_uri": "https://localhost:8080/"
        },
        "outputId": "30a1d1a0-2d63-4268-a255-042d3274c376"
      },
      "source": [
        "print(tv)"
      ],
      "execution_count": null,
      "outputs": [
        {
          "output_type": "stream",
          "text": [
            "['Supernatural', \"Grey's Anatomy\", ' Avatar:The Last Airbender', 'One Tree Hill', 'Outerbanks']\n"
          ],
          "name": "stdout"
        }
      ]
    },
    {
      "cell_type": "markdown",
      "metadata": {
        "id": "DAW8m8IQjRyR"
      },
      "source": [
        "## 3.\tUse the sorted() function to print the list in alphabetical order.  How is sorted() different from sort()?"
      ]
    },
    {
      "cell_type": "code",
      "metadata": {
        "id": "guULMEhrjYtT"
      },
      "source": [
        "tv= [\"Supernatural\", \"Grey's Anatomy\", \"Avatar:The Last Airbender\", \"One Tree Hill\", \"Outerbanks\"]\r\n"
      ],
      "execution_count": null,
      "outputs": []
    },
    {
      "cell_type": "code",
      "metadata": {
        "id": "mnr9Zo9RjIlP",
        "colab": {
          "base_uri": "https://localhost:8080/"
        },
        "outputId": "bc7e6a49-6dd8-4b9b-e297-9e9a7e2f90dd"
      },
      "source": [
        "print(tv)\r\n",
        "print(sorted(tv))\r\n",
        "print(tv)"
      ],
      "execution_count": null,
      "outputs": [
        {
          "output_type": "stream",
          "text": [
            "['Supernatural', \"Grey's Anatomy\", 'Avatar:The Last Airbender', 'One Tree Hill', 'Outerbanks']\n",
            "['Avatar:The Last Airbender', \"Grey's Anatomy\", 'One Tree Hill', 'Outerbanks', 'Supernatural']\n",
            "['Supernatural', \"Grey's Anatomy\", 'Avatar:The Last Airbender', 'One Tree Hill', 'Outerbanks']\n"
          ],
          "name": "stdout"
        }
      ]
    },
    {
      "cell_type": "code",
      "metadata": {
        "id": "4ozR3bTRvDLc",
        "colab": {
          "base_uri": "https://localhost:8080/"
        },
        "outputId": "2500e662-a0e6-4992-aed1-d08d154120d2"
      },
      "source": [
        "print(tv)\r\n",
        "tv.sort()\r\n",
        "print(tv)"
      ],
      "execution_count": null,
      "outputs": [
        {
          "output_type": "stream",
          "text": [
            "['Avatar:The Last Airbender', \"Grey's Anatomy\", 'One Tree Hill', 'Outerbanks', 'Supernatural']\n",
            "['Avatar:The Last Airbender', \"Grey's Anatomy\", 'One Tree Hill', 'Outerbanks', 'Supernatural']\n"
          ],
          "name": "stdout"
        }
      ]
    },
    {
      "cell_type": "markdown",
      "metadata": {
        "id": "dpa_YOt4jXyo"
      },
      "source": [
        "## 4.\tPrint out your original list."
      ]
    },
    {
      "cell_type": "code",
      "metadata": {
        "id": "pltxfnh3iJLW",
        "colab": {
          "base_uri": "https://localhost:8080/"
        },
        "outputId": "0f62a11e-f6cb-40eb-8a1a-efe4544a70f2"
      },
      "source": [
        "tv= [\"Supernatural\",\"Grey's Anatomy\",\"Avatar:The Last Airbender\",\"One Tree Hill\",\"Outerbanks\"]\r\n",
        "print(tv)"
      ],
      "execution_count": null,
      "outputs": [
        {
          "output_type": "stream",
          "text": [
            "['Supernatural', \"Grey's Anatomy\", 'Avatar:The Last Airbender', 'One Tree Hill', 'Outerbanks']\n"
          ],
          "name": "stdout"
        }
      ]
    },
    {
      "cell_type": "markdown",
      "metadata": {
        "id": "Ka84RGy4jmLT"
      },
      "source": [
        "## 5.\tUsed sorted() to print your list in reverse alphabetical order."
      ]
    },
    {
      "cell_type": "code",
      "metadata": {
        "id": "34IFFtK4jrg4",
        "colab": {
          "base_uri": "https://localhost:8080/"
        },
        "outputId": "edf7f841-ce79-4de6-e247-11242eb01c35"
      },
      "source": [
        "tv.sort(reverse=True)\r\n",
        "print(tv)"
      ],
      "execution_count": null,
      "outputs": [
        {
          "output_type": "stream",
          "text": [
            "['Supernatural', 'Outerbanks', 'One Tree Hill', \"Grey's Anatomy\", 'Avatar:The Last Airbender']\n"
          ],
          "name": "stdout"
        }
      ]
    },
    {
      "cell_type": "markdown",
      "metadata": {
        "id": "ZKHwdMnLliFy"
      },
      "source": [
        "## 6.\tCreate a message indicating how many favorite TV shows you have – use the len() function."
      ]
    },
    {
      "cell_type": "code",
      "metadata": {
        "id": "eXUDZfLOllTT",
        "colab": {
          "base_uri": "https://localhost:8080/"
        },
        "outputId": "fdf41962-c241-4a5e-f60c-23234479e5e2"
      },
      "source": [
        "message= len(tv)\r\n",
        "len(tv)"
      ],
      "execution_count": null,
      "outputs": [
        {
          "output_type": "execute_result",
          "data": {
            "text/plain": [
              "5"
            ]
          },
          "metadata": {
            "tags": []
          },
          "execution_count": 51
        }
      ]
    },
    {
      "cell_type": "code",
      "metadata": {
        "id": "4oNKGU70llVg",
        "colab": {
          "base_uri": "https://localhost:8080/"
        },
        "outputId": "81804351-d0dd-4028-93dd-aee6b06c2e07"
      },
      "source": [
        "print(\"The number favorite TV shows I have are \" + str(message)+ \".\")"
      ],
      "execution_count": null,
      "outputs": [
        {
          "output_type": "stream",
          "text": [
            "The number favorite TV shows I have are 5.\n"
          ],
          "name": "stdout"
        }
      ]
    },
    {
      "cell_type": "code",
      "metadata": {
        "id": "jjh2GdktllZY"
      },
      "source": [
        ""
      ],
      "execution_count": null,
      "outputs": []
    },
    {
      "cell_type": "code",
      "metadata": {
        "id": "iHaRIrt8llcd"
      },
      "source": [
        ""
      ],
      "execution_count": null,
      "outputs": []
    }
  ]
}