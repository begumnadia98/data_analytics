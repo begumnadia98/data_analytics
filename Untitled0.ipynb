{
  "nbformat": 4,
  "nbformat_minor": 0,
  "metadata": {
    "colab": {
      "name": "Untitled0.ipynb",
      "provenance": [],
      "collapsed_sections": [],
      "authorship_tag": "ABX9TyMAQVOlAeIsDx+4DftWAzNy",
      "include_colab_link": true
    },
    "kernelspec": {
      "name": "python3",
      "display_name": "Python 3"
    }
  },
  "cells": [
    {
      "cell_type": "markdown",
      "metadata": {
        "id": "view-in-github",
        "colab_type": "text"
      },
      "source": [
        "<a href=\"https://colab.research.google.com/github/begumnadia98/data_analytics/blob/main/Untitled0.ipynb\" target=\"_parent\"><img src=\"https://colab.research.google.com/assets/colab-badge.svg\" alt=\"Open In Colab\"/></a>"
      ]
    },
    {
      "cell_type": "code",
      "metadata": {
        "colab": {
          "base_uri": "https://localhost:8080/",
          "height": 209
        },
        "id": "ytbDvsbJIJQD",
        "outputId": "c38e179e-1716-4de9-d4f4-cbe050795417"
      },
      "source": [
        "\"Hello World\"\r\n",
        "# Learning to code in python\r\n",
        "# print(\"Hello World!\")\r\n",
        "Print (\"Hello World!\")"
      ],
      "execution_count": 16,
      "outputs": [
        {
          "output_type": "error",
          "ename": "NameError",
          "evalue": "ignored",
          "traceback": [
            "\u001b[0;31m---------------------------------------------------------------------------\u001b[0m",
            "\u001b[0;31mNameError\u001b[0m                                 Traceback (most recent call last)",
            "\u001b[0;32m<ipython-input-16-123805822740>\u001b[0m in \u001b[0;36m<module>\u001b[0;34m()\u001b[0m\n\u001b[1;32m      2\u001b[0m \u001b[0;31m# Learning to code in python\u001b[0m\u001b[0;34m\u001b[0m\u001b[0;34m\u001b[0m\u001b[0;34m\u001b[0m\u001b[0m\n\u001b[1;32m      3\u001b[0m \u001b[0;31m# print(\"Hello World!\")\u001b[0m\u001b[0;34m\u001b[0m\u001b[0;34m\u001b[0m\u001b[0;34m\u001b[0m\u001b[0m\n\u001b[0;32m----> 4\u001b[0;31m \u001b[0mPrint\u001b[0m \u001b[0;34m(\u001b[0m\u001b[0;34m\"Hello World!\"\u001b[0m\u001b[0;34m)\u001b[0m\u001b[0;34m\u001b[0m\u001b[0;34m\u001b[0m\u001b[0m\n\u001b[0m",
            "\u001b[0;31mNameError\u001b[0m: name 'Print' is not defined"
          ]
        }
      ]
    },
    {
      "cell_type": "code",
      "metadata": {
        "colab": {
          "base_uri": "https://localhost:8080/"
        },
        "id": "FQ1muRz2J57H",
        "outputId": "ac16162f-7016-4925-8601-c54f689ca567"
      },
      "source": [
        "variableA= \"HEllo World\"\r\n",
        "print (variableA)"
      ],
      "execution_count": 15,
      "outputs": [
        {
          "output_type": "stream",
          "text": [
            "HEllo World\n"
          ],
          "name": "stdout"
        }
      ]
    },
    {
      "cell_type": "code",
      "metadata": {
        "colab": {
          "base_uri": "https://localhost:8080/"
        },
        "id": "TLMU3x2TI5XV",
        "outputId": "368a53bc-4fff-4434-c5d5-840283a818ec"
      },
      "source": [
        "Class = (\"DaTa Analytics\")\r\n",
        "print(Class)"
      ],
      "execution_count": 17,
      "outputs": [
        {
          "output_type": "stream",
          "text": [
            "DaTa Analytics\n"
          ],
          "name": "stdout"
        }
      ]
    },
    {
      "cell_type": "code",
      "metadata": {
        "colab": {
          "base_uri": "https://localhost:8080/"
        },
        "id": "NK-EsT4YOE_v",
        "outputId": "8cf19b1b-2ca4-4f70-bc76-0be08870b596"
      },
      "source": [
        "school = \"cuny lehman\"\r\n",
        "print(school.upper())\r\n",
        "print(school.lower())"
      ],
      "execution_count": 23,
      "outputs": [
        {
          "output_type": "stream",
          "text": [
            "CUNY LEHMAN\n",
            "cuny lehman\n"
          ],
          "name": "stdout"
        }
      ]
    },
    {
      "cell_type": "code",
      "metadata": {
        "colab": {
          "base_uri": "https://localhost:8080/"
        },
        "id": "RRzYMhkUPh9h",
        "outputId": "e8e437f9-fed9-4072-918d-02993a848ba8"
      },
      "source": [
        "firstname = \"Nadia\"\r\n",
        "lastname =\"Begum\"\r\n",
        "numberX= \"1\"\r\n",
        "PersonName = firstname + \" \" +lastname + \" \" + numberX\r\n",
        "print(PersonName)\r\n",
        "print (\"Nadia\")\r\n",
        "print (\"\\tBegum\")\r\n",
        "print (\"\\nBegum\")"
      ],
      "execution_count": 35,
      "outputs": [
        {
          "output_type": "stream",
          "text": [
            "Nadia Begum 1\n",
            "Nadia\n",
            "\tBegum\n",
            "\n",
            "Begum\n"
          ],
          "name": "stdout"
        }
      ]
    },
    {
      "cell_type": "code",
      "metadata": {
        "colab": {
          "base_uri": "https://localhost:8080/",
          "height": 72
        },
        "id": "h38MJrSWSuvI",
        "outputId": "0ea4d337-00e1-4d8b-ca57-8d10ace50e8b"
      },
      "source": [
        "Individual_Name=\"Nadia Begum   M.D.\"\r\n",
        "print(Individual_Name)\r\n",
        "print(Individual_Name.rstrip())\r\n",
        "Individual_Name.rstrip()"
      ],
      "execution_count": 38,
      "outputs": [
        {
          "output_type": "stream",
          "text": [
            "Nadia Begum   M.D.\n",
            "Nadia Begum   M.D.\n"
          ],
          "name": "stdout"
        },
        {
          "output_type": "execute_result",
          "data": {
            "application/vnd.google.colaboratory.intrinsic+json": {
              "type": "string"
            },
            "text/plain": [
              "'Nadia Begum   M.D.'"
            ]
          },
          "metadata": {
            "tags": []
          },
          "execution_count": 38
        }
      ]
    },
    {
      "cell_type": "code",
      "metadata": {
        "colab": {
          "base_uri": "https://localhost:8080/"
        },
        "id": "7QqazMCGT7Ue",
        "outputId": "779a47c3-077b-4d63-acd0-799565fe8f97"
      },
      "source": [
        "friend = \"John\"\r\n",
        "Message= \"Hello\" + \" \" + friend+ \" \" \", what are you doing after class?\" \r\n",
        "print(Message)\r\n",
        "Name= \"John\"\r\n",
        "print(friend.upper())\r\n",
        "print(friend.lower())\r\n",
        "print(\"\\tJohn\")\r\n",
        "print (\"\\nJohn\")\r\n"
      ],
      "execution_count": 50,
      "outputs": [
        {
          "output_type": "stream",
          "text": [
            "Hello John , what are you doing after class?\n",
            "JOHN\n",
            "john\n",
            "\tJohn\n",
            "\n",
            "John\n"
          ],
          "name": "stdout"
        }
      ]
    },
    {
      "cell_type": "code",
      "metadata": {
        "colab": {
          "base_uri": "https://localhost:8080/"
        },
        "id": "4BhayLm-YPUr",
        "outputId": "34702eb2-5fc0-42b9-a1b5-75ae059ba951"
      },
      "source": [
        "age= '27'\r\n",
        "message= \"Happy\" +\" \" + age + \"th Birthday!\"\r\n",
        "print(message)"
      ],
      "execution_count": 56,
      "outputs": [
        {
          "output_type": "stream",
          "text": [
            "Happy 27th Birthday!\n"
          ],
          "name": "stdout"
        }
      ]
    },
    {
      "cell_type": "code",
      "metadata": {
        "colab": {
          "base_uri": "https://localhost:8080/"
        },
        "id": "PQqbFmA8ZKak",
        "outputId": "40043d13-d4de-4806-d07d-ca60d86c2890"
      },
      "source": [
        "age= 27\r\n",
        "message = \"Happy \" + str(age) + \"th Birthday!\"\r\n",
        "print(message)"
      ],
      "execution_count": 57,
      "outputs": [
        {
          "output_type": "stream",
          "text": [
            "Happy 27th Birthday!\n"
          ],
          "name": "stdout"
        }
      ]
    },
    {
      "cell_type": "code",
      "metadata": {
        "id": "6LytL5mNamh5"
      },
      "source": [
        ""
      ],
      "execution_count": null,
      "outputs": []
    }
  ]
}