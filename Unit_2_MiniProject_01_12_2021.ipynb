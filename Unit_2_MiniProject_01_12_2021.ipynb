{
  "nbformat": 4,
  "nbformat_minor": 0,
  "metadata": {
    "colab": {
      "name": "Unit 2_MiniProject 01/12/2021",
      "provenance": [],
      "collapsed_sections": [],
      "include_colab_link": true
    },
    "kernelspec": {
      "display_name": "Python 3",
      "name": "python3"
    }
  },
  "cells": [
    {
      "cell_type": "markdown",
      "metadata": {
        "id": "view-in-github",
        "colab_type": "text"
      },
      "source": [
        "<a href=\"https://colab.research.google.com/github/begumnadia98/data_analytics/blob/main/Unit_2_MiniProject_01_12_2021.ipynb\" target=\"_parent\"><img src=\"https://colab.research.google.com/assets/colab-badge.svg\" alt=\"Open In Colab\"/></a>"
      ]
    },
    {
      "cell_type": "markdown",
      "metadata": {
        "id": "eyOFW9MkrE38"
      },
      "source": [
        "Ask the user for a number. Depending on whether the number is even or odd, print out an appropriate message to the user.  Hint: how does an even / odd number react differently when divided by 2?\r\n",
        "\r\n",
        "**Bonus:**\r\n",
        "* if the number is a multiple of 4, print out a different message.\r\n",
        "* Ask the user for two numbers: one number to check (call it num) and one number to divide by (check).  If check divides evenly into num, tell that to the user.  If not, print a different appropriate message.\r\n",
        "* Write a custom function for finding whether the number is even or odd and call it in your main program code.\r\n",
        "\r\n",
        "\r\n",
        "\r\n",
        "\r\n",
        "\r\n"
      ]
    },
    {
      "cell_type": "code",
      "metadata": {
        "colab": {
          "base_uri": "https://localhost:8080/"
        },
        "id": "XpBJxOXu4pjj",
        "outputId": "75043f5e-28a3-4bf8-a370-98c68ab232ea"
      },
      "source": [
        "number = input(\"Enter a number \")\r\n",
        "if int(number) % 2 == 0:\r\n",
        "    print(str(number) + \" is an even number.\")\r\n",
        "else:\r\n",
        "    print(str(number) + \" is an odd number.\")"
      ],
      "execution_count": 9,
      "outputs": [
        {
          "output_type": "stream",
          "text": [
            "Enter a number 17\n",
            "17 is an odd number.\n"
          ],
          "name": "stdout"
        }
      ]
    },
    {
      "cell_type": "code",
      "metadata": {
        "colab": {
          "base_uri": "https://localhost:8080/"
        },
        "id": "l3PpjTi8q3zC",
        "outputId": "2ee59bc3-3ee1-4773-d208-104e733135a3"
      },
      "source": [
        "number = input(\"Enter a number \")\r\n",
        "if int(number) % 2 == 0:\r\n",
        "    print(str(number) + \" is an even number.\")\r\n",
        "else:\r\n",
        "    print(str(number) + \" is an odd number.\")\r\n",
        "if int(number) % 4 == 0:\r\n",
        "    print(str(number) + \" is a multiple of 4\")\r\n",
        "num = input(\"Enter first number \")\r\n",
        "check = input(\"Enter second number \")\r\n",
        "if int(num) % int(check) == 0:\r\n",
        "    print(str(num) + \" divides evenly by \" + str(check)+\".\")\r\n",
        "else:\r\n",
        "    print(str(num) + \" does not divide evenly by \" + str(check)+\".\")"
      ],
      "execution_count": 11,
      "outputs": [
        {
          "output_type": "stream",
          "text": [
            "Enter a number 16\n",
            "16 is an even number.\n",
            "16 is a multiple of 4\n",
            "Enter first number 24\n",
            "Enter second number 6\n",
            "24 divides evenly by 6.\n"
          ],
          "name": "stdout"
        }
      ]
    },
    {
      "cell_type": "markdown",
      "metadata": {
        "id": "j0aCubXkEui8"
      },
      "source": [
        "Make a two-player Rock-Paper-Scissors game. (Hint: Ask for player plays (using input), compare them, print out a message of congratulations to the winner, and ask if the players want to start a new game)​\r\n",
        "\r\n",
        "\r\n",
        "*  Remember the rules:​\r\n",
        "*  Rock beats scissors​\r\n",
        "*  Scissors beats paper​\r\n",
        "*  Paper beats rock\r\n",
        "\r\n",
        "\r\n",
        "\r\n",
        "\r\n",
        "\r\n",
        "\r\n"
      ]
    },
    {
      "cell_type": "code",
      "metadata": {
        "colab": {
          "base_uri": "https://localhost:8080/"
        },
        "id": "IY27DL4t1rVS",
        "outputId": "c111d8a6-e83b-4bfe-d8aa-895ffa4297e7"
      },
      "source": [
        "print('''Please pick one:\r\n",
        "            rock\r\n",
        "            scissors\r\n",
        "            paper''')\r\n",
        "\r\n",
        "while True:\r\n",
        "    game_dict = {'rock': 1, 'scissors': 2, 'paper': 3}\r\n",
        "    playerA = str(input(\"Player A: \"))\r\n",
        "    playerB = str(input(\"Player B: \"))\r\n",
        "    A = game_dict.get(playerA)\r\n",
        "    B = game_dict.get(playerB)\r\n",
        "    dif = A - B\r\n",
        "\r\n",
        "    if dif in [-1, 2]:\r\n",
        "        print('Player A wins.')\r\n",
        "        if str(input('Do you want to play another game, yes or no?')) == 'yes':\r\n",
        "            continue\r\n",
        "        else:\r\n",
        "            print('Game Over.')\r\n",
        "            break\r\n",
        "    elif dif in [-2, 1]:\r\n",
        "        print('Player B wins.')\r\n",
        "        if str(input('Do you want to play another game, yes or no?')) == 'yes':\r\n",
        "            continue\r\n",
        "        else:\r\n",
        "            print('Game over.')\r\n",
        "            break\r\n",
        "    else:\r\n",
        "        print('It is a tie. Try again.')\r\n",
        "        print('')"
      ],
      "execution_count": null,
      "outputs": [
        {
          "output_type": "stream",
          "text": [
            "Please pick one:\n",
            "            rock\n",
            "            scissors\n",
            "            paper\n",
            "Player A: rock\n",
            "Player B: paper\n",
            "Player B wins.\n",
            "Do you want to play another game, yes or no?yes\n",
            "Player A: scissors\n",
            "Player B: paper\n",
            "Player A wins.\n",
            "Do you want to play another game, yes or no?yes\n",
            "Player A: rock\n",
            "Player B: rock\n",
            "It is a tie. Try again.\n",
            "\n",
            "Player A: paper\n",
            "Player B: rock\n",
            "Player A wins.\n",
            "Do you want to play another game, yes or no?no\n",
            "Game Over.\n"
          ],
          "name": "stdout"
        }
      ]
    }
  ]
}